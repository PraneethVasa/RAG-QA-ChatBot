{
 "cells": [
  {
   "cell_type": "markdown",
   "metadata": {},
   "source": [
    "## Text Spliting into Chunks"
   ]
  },
  {
   "cell_type": "code",
   "execution_count": 42,
   "metadata": {},
   "outputs": [
    {
     "data": {
      "text/plain": [
       "[Document(metadata={'source': 'C:/Users/prane/Downloads/LangChain Project/Data/story.pdf', 'page': 0}, page_content='1/I SELL MY DREAMS\\nShort stories\\nINTRODUCTION\\nA short story is a prose narrative of limited length.\\nIt organises the action and thoughts of its\\ncharacters into the pattern of a plot. The plot\\nform may be comic, tragic, romantic or satiric.\\nThe central incident is selected to manifest, as\\nmuch as possible, the protagonist’s life and\\ncharacter, and the details contribute to the\\ndevelopment of the plot.\\nThe term ‘short story’ covers a great diversity of\\nprose fiction, right from the really short ‘short\\nstory’ of about five hundred words to longer and\\nmore complex works. The longer ones, with their\\nstatus of middle length, fall between the tautness\\nof the short narrative and the expansiveness of\\nthe novel.\\nThere can be thematic variation too. The stories\\ndeal with fantasy, reality, alienation and the\\nproblem of choice in personal life. There are three\\nshort stories and two long ones in this section\\nrepresenting writers from five cultures.\\n2024-25\\n'),\n",
       " Document(metadata={'source': 'C:/Users/prane/Downloads/LangChain Project/Data/story.pdf', 'page': 1}, page_content='2/KALEIDOSCOPE\\nI S I SI S I SI Sell my Dreamsell my Dreamsell my Dreamsell my Dreamsell my Dreams\\nGabriel Garcia Marquez was brought up by his\\ngrandparents in Northern Columbia because his\\nparents were poor and struggling. A novelist, short-\\nstory writer and journalist, he is widely considered\\nthe greatest living Latin American master of narrative.\\nMarquez won the Nobel Prize in Literature in 1982.\\nHis two masterpieces are One Hundred Years in\\nSolitude (1967, tr. 1970) and Love in The Time of\\nCholera (1985, tr. 1988). His themes are violence,\\nsolitude and the overwhelming human need for love.\\nThis story reflects, like most of his works, a high\\npoint in Latin American magical realism; it is rich\\nand lucid, mixing reality with fantasy.\\nOne morning at nine o’clock, while we were having breakfast\\non the terrace of the Havana Riviera Hotel under a bright\\nsun, a huge wave picked up several cars that were driving\\ndown the avenue along the seawall or parked on the\\npavement, and embedded one of them in the side of the\\nhotel. It was like an explosion of dynamite that sowed panic\\non all twenty floors of the building and turned the great\\nentrance window to dust. The many tourists in the lobby\\nwere thrown into the air along with the furniture, and\\nsome were cut by the hailstorm of glass. The wave must\\nhave been immense, because it leaped over the wide two-\\nway street between the seawall and the hotel and still had\\nenough force to shatter the window.\\nThe cheerful Cuban volunteers, with the help of the\\nfire department, picked up the debris in less than six hours,\\nand sealed off the gate to the sea and installed another ,\\n1 11 11\\nGabriel Garcia Marquez\\n1927-2014\\n2024-25\\n'),\n",
       " Document(metadata={'source': 'C:/Users/prane/Downloads/LangChain Project/Data/story.pdf', 'page': 2}, page_content='3/I SELL MY DREAMS\\nand everything returned to normal. During the morning\\nnobody worried about the car encrusted in the wall, for\\npeople assumed it was one of those that had been parked\\non the pavement. But when the crane lifted it out of its\\nsetting, the body of a woman was found secured behind\\nthe steering wheel by a seat belt. The blow had been so\\nbrutal that not a single one of her bones was left whole.\\nHer face was destroyed, her boots had been ripped apart,\\nand her clothes were in shreds. She wore a gold ring shaped\\nlike a serpent, with emerald eyes. The police established\\nthat she was the housekeeper for the new Portuguese\\nambassador and his wife. She had come to Havana with\\nthem two weeks before and had left that morning for the\\nmarket, driving a new car. Her name meant nothing to me\\nwhen I read it in the newspaper , but I was intrigued by the\\nsnake ring and its emerald eyes. I could not find out,\\nhowever, on which finger she wor e it.\\nThis was a crucial piece of information, because I feared\\nshe was an unforgettable woman whose real name I never\\nknew, and who wore a similar ring on her right forefinger\\nwhich, in those days, was even more unusual than it is\\nnow. I had met her thirty-four years earlier in Vienna,\\neating sausage with boiled potatoes and drinking draft beer\\nin a tavern frequented by Latin American students. I had\\ncome from Rome that morning, and I still remember my\\nimmediate response to her splendid soprano’s bosom, the\\nlanguid foxtails on her coat collar, and that Egyptian ring\\nin the shape of a serpent. She spoke an elementary Spanish\\nin a metallic accent without pausing for breath, and I\\nthought she was the only Austrian at the long wooden\\ntable. But no, she had been born in Colombia and had\\ncome to Austria between the wars, when she was little\\nmore than a child, to study music and voice. She was\\nabout thirty, and did not carry her years well, for she had\\nnever been pretty and had begun to age before her time.\\nBut she was a charming human being. And one of the\\nmost awe-inspiring.\\nVienna was still an old imperial city, whose\\ngeographical position between the two irreconcilable worlds\\nleft behind by the Second World War had tur ned it into a\\n2024-25\\n'),\n",
       " Document(metadata={'source': 'C:/Users/prane/Downloads/LangChain Project/Data/story.pdf', 'page': 3}, page_content='4/KALEIDOSCOPE\\nparadise of black marketeering and international espionage.\\nI could not have imagined a more suitable spot for my\\nfugitive compatriot, who still ate in the students’ tavern\\non the corner only out of loyalty to her origins, since she\\nhad more than enough money to buy meals for all her\\ntable companions. She never told her real name, and we\\nalways knew her by the Germanic tongue twister that we\\nLatin American students in Vienna invented for her: Frau\\nFrieda. I had just been introduced to her when I committed\\nthe happy impertinence of asking how she had come to be\\nin a world so distant and different from the windy cliffs of\\nQuindio, and she answered with a devastating:\\n‘I sell my dreams.’\\nIn reality, that was her only trade. She had been the\\nthird of eleven children born to a prosperous shopkeeper\\nin old Caldas, and as soon as she learned to speak she\\ninstituted the fine custom in her family of telling dreams\\nbefore breakfast, the time when their oracular qualities\\nare preserved in their purest form. When she was seven\\nshe dreamed that one of her brothers was carried off by a\\nflood. Her mother, out of sheer r eligious superstition,\\nforbade the boy to swim in the ravine, which was his\\nfavourite pastime. But Frau Frieda already had her own\\nsystem of prophecy.\\n‘What that dream means,’ she said, ‘isn’t that he’s\\ngoing to drown, but that he shouldn’t eat sweets.’\\nHer interpretation seemed an infamy to a five-year -old\\nboy who could not live without his Sunday treats. Their\\nmother, convinced of her daughter’s oracular talents,\\nenforced the warning with an iron hand. But in her first\\ncareless moment the boy choked on a piece of caramel that\\nhe was eating in secret, and there was no way to save him.\\nFrau Frieda did not think she could earn a living with\\nher talent until life caught her by the throat during the\\ncruel Viennese winters. Then she looked for work at the\\nfirst house where she would have liked to live, and when\\nshe was asked what she could do, she told only the truth:\\n‘I dream.’ A brief explanation to the lady of the house was\\nall she needed, and she was hired at a salary that just\\n2024-25\\n'),\n",
       " Document(metadata={'source': 'C:/Users/prane/Downloads/LangChain Project/Data/story.pdf', 'page': 4}, page_content='5/I SELL MY DREAMS\\ncovered her minor expenses, but she had a nice room and\\nthree meals a day—br eakfast in particular, when the family\\nsat down to learn the immediate future of each of its\\nmembers: the father, a r efined financier; the mother , a\\njoyful woman passionate about Romantic chamber music;\\nand two children, eleven and nine years old. They were all\\nreligious and therefore inclined to archaic superstitions,\\nand they were delighted to take in Frau Frieda, whose\\nonly obligation was to decipher the family’s daily fate\\nthrough her dreams.\\nShe did her job well, and for a long time, above all\\nduring the war years, when reality was more sinister than\\nnightmares. Only she could decide at breakfast what each\\nshould do that day, and how it should be done, until her\\npredictions became the sole authority in the house. Her\\ncontrol over the family was absolute: even the faintest sigh\\nwas breathed by her or der. The master of the house died\\nat about the time I was in Vienna, and had the elegance to\\nleave her a part of his estate on the condition that she\\ncontinue dreaming for the family until her dreams came\\nto an end.\\nI stayed in Vienna for more than a month, sharing the\\nstraitened circumstances of the other students while I\\nwaited for money that never arrived. Frau Frieda’s\\nunexpected and generous visits to the tavern were like\\nfiestas in our poverty-stricken regime. One night, in a beery\\neuphoria, she whispered in my ear with a conviction that\\npermitted no delay.\\n‘I only came to tell you that I dreamed about you last\\nnight,’ she said. ‘You must leave right away and not come\\nback to Vienna for five years.’\\nHer conviction was so real that I boarded the last train\\nto Rome that same night. As for me, I was so influenced by\\nwhat she said that from then on I considered myself a\\nsurvivor of some catastrophe I never experienced. I still\\nhave not returned to Vienna.\\n2024-25\\n'),\n",
       " Document(metadata={'source': 'C:/Users/prane/Downloads/LangChain Project/Data/story.pdf', 'page': 5}, page_content='6/KALEIDOSCOPE\\nStop and ThinkStop and ThinkStop and ThinkStop and ThinkStop and Think\\n1. How did the author recognise the lady who was\\nextricated from the car encrusted in the wall of Havana\\nRiviera Hotel after the storm?\\n2. Why did the author leave Vienna never to return\\nagain?\\nBefore the disaster in Havana, I had seen Frau Frieda\\nin Barcelona in so unexpected and fortuitous a way that it\\nseemed a mystery to me. It happened on the day Pablo\\nNeruda stepped on Spanish soil for the first time since the\\nCivil War, on a stopover during a long sea voyage to\\nValparaiso. He spent a mor ning with us hunting big game\\nin the second-hand bookstores, and at Porter he bought\\nan old, dried-out volume with a torn binding for which he\\npaid what would have been his salary for two months at\\nthe consulate in Rangoon. He moved through the crowd\\nlike an invalid elephant, with a child’s curiosity in the\\ninner workings of each thing he saw, for the world appeared\\nto him as an immense wind-up toy with which life invented\\nitself.\\nI have never known anyone closer to the idea one has\\nof a Renaissance pope: He was gluttonous and refined.\\nEven against his will, he always presided at the table.\\nMatilde, his wife, would put a bib around his neck that\\nbelonged in a barbershop rather than a dining room, but it\\nwas the only way to keep him from taking a bath in sauce.\\nThat day at Carvalleiras was typical. He ate three whole\\nlobsters, dissecting them with a surgeon’s skill, and at the\\nsame time devoured everyone else’s plate with his eyes\\nand tasted a little from each with a delight that made the\\ndesire to eat contagious: clams from Galicia, mussels from\\nCantabria, prawns from Alicante, sea cucumbers from the\\nCosta Brava. In the meantime, like the French, he spoke\\nof nothing but other culinary delicacies, in particular the\\nprehistoric shellfish of Chile, which he carried in his heart.\\nAll at once he stopped eating, tuned his lobster’s antennae,\\nand said to me in a very quiet voice:\\n‘There’s someone behind me who won’t stop looking at\\nme.’\\n2024-25\\n'),\n",
       " Document(metadata={'source': 'C:/Users/prane/Downloads/LangChain Project/Data/story.pdf', 'page': 6}, page_content='7/I SELL MY DREAMS\\nI glanced over his shoulder , and it was true. Thr ee\\ntables away sat an intrepid woman in an old-fashioned\\nfelt hat and a purple scarf, eating without haste and staring\\nat him. I recognised her right away. She had grown old\\nand fat, but it was Frau Frieda, with the snake ring on her\\nindex finger.\\nShe was travelling from Naples on the same ship as\\nNeruda and his wife, but they had not seen each other on\\nboard. We invited her to have cof fee at our table, and I\\nencouraged her to talk about her dreams in order to astound\\nthe poet. He paid no attention, for from the very beginning\\nhe had announced that he did not believe in prophetic\\ndreams.\\n‘Only poetry is clairvoyant,’ he said.\\nAfter lunch, during the inevitable stroll along the\\nRamblas, I lagged behind with Frau Frieda so that we could\\nrenew our memories with no other ears listening. She told\\nme she had sold her properties in Austria and retired to\\nOporto, in Portugal, where she lived in a house that she\\ndescribed as a fake castle on a hill, from which one could\\nsee all the way across the ocean to the Americas. Although\\nshe did not say so, her conversation made it clear that,\\ndream by dream, she had taken over the entire fortune of\\nher ineffable patrons in Vienna. That did not surprise me,\\nhowever, because I had always thought her dr eams wer e\\nno more than a stratagem for surviving. And I told her so.\\nShe laughed her irr esistible laugh. ‘You’re as impudent\\nas ever,’ she said. And said no mor e, because the r est of\\nthe group had stopped to wait for Neruda to finish talking\\nin Chilean slang to the parrots along the Rambla de los\\nPájaros. When we resumed our conversation, Frau Frieda\\nchanged the subject.\\n‘By the way,’ she said, ‘you can go back to Vienna\\nnow.’\\nOnly then did I realise that thirteen years had gone by\\nsince our first meeting.\\n‘Even if your dreams are false, I’ll never go back,’ I told\\nher. ‘Just in case.’\\nAt three o’clock we left her to accompany Neruda to his\\nsacred siesta, which he took in our house after solemn\\n2024-25\\n'),\n",
       " Document(metadata={'source': 'C:/Users/prane/Downloads/LangChain Project/Data/story.pdf', 'page': 7}, page_content='8/KALEIDOSCOPE\\npreparations that in some way recalled the Japanese tea\\nceremony. Some windows had to be opened and others closed\\nto achieve the perfect degree of warmth, and there had to\\nbe a certain kind of light from a certain direction, and\\nabsolute silence. Neruda fell asleep right away, and woke\\nten minutes later, as childr en do, when we least expected\\nit. He appeared in the living room refreshed, and with the\\nmonogram of the pillowcase imprinted on his cheek.\\n‘I dreamed about that woman who dreams,’ he said.\\nMatilde wanted him to tell her his dream.\\n‘I dreamed she was dreaming about me,’ he said.\\n‘That’s right out of Borges,’ I said.\\nHe looked at me in disappointment.\\n‘Has he written it already?’\\n‘If he hasn’t he’ll write it sometime,’ I said. ‘It will be\\none of his labyrinths.’\\nAs soon as he boarded the ship at six that evening, Neruda\\ntook his leave of us, sat down at an isolated table, and began\\nto write fluid verses in the green ink he used for drawing\\nflowers and fish and birds when he dedicated his books. At\\nthe first ‘All ashore’ we looked for Frau Frieda, and found her\\nat last on the tourist deck, just as we were about to leave\\nwithout saying good-bye. She too had taken a siesta.\\n‘I dreamed about the poet,’ she said.\\nIn astonishment I asked her to tell me her dream.\\n‘I dreamed he was dreaming about me,’ she said, and\\nmy look of amazement disconcerted her . ‘What did you\\nexpect? Sometimes, with all my dreams, one slips in that\\nhas nothing to do with real life.’\\nStop and ThinkStop and ThinkStop and ThinkStop and ThinkStop and Think\\n 1. How did  Pablo Neruda know that somebody behind\\nhim was looking at him?\\n 2. How did  Pablo  Neruda counter Frau Frieda’s claims\\nto clairvoyance?\\nI never saw her again or even wondered about her\\nuntil I heard about the snake ring on the woman who\\ndied in the Havana Riviera disaster. And I could not resist\\n2024-25\\n'),\n",
       " Document(metadata={'source': 'C:/Users/prane/Downloads/LangChain Project/Data/story.pdf', 'page': 8}, page_content='9/I SELL MY DREAMS\\nthe temptation of questioning the Portuguese\\nambassador when we happened to meet some months\\nlater at a diplomatic reception. The ambassador spoke\\nabout her with great enthusiasm and enormous\\nadmiration. ‘You cannot imagine how extraordinary she\\nwas,’ he said. ‘You would have been obliged to write a\\nstory about her.’ And he went on in the same tone, with\\nsurprising details, but without the clue that would have\\nallowed me to come to a final conclusion.\\n‘In concrete terms,’ I asked at last, ‘what did she do?’\\n‘Nothing,’ he said, with a certain disenchantment. ‘She\\ndreamed.’\\nUnderstanding the Text\\n1. Did the author believe in the prophetic ability of Frau Frieda?\\n2. Why did he think that Frau Frieda’s dreams were a stratagem\\nfor surviving?\\n3. Why does the author compare Neruda to a Renaissance pope?\\nTalking about the Text\\nDiscuss in groups\\n1. In spite of all the rationality that human beings are capable of,\\nmost of us are suggestible and yield to archaic superstitions.\\n2. Dreams and clairvoyance are as much an element of the poetic\\nvision as religious superstition.\\nAppreciation\\n1. The story hinges on a gold ring shaped like a serpent with\\nemerald eyes. Comment on the responses that this image\\nevokes in the r eader.\\n2. The craft of a master story-teller lies in the ability to interweave\\nimagination and reality. Do you think that this story illustrates this?\\n3. Bring out the contradiction in the last exchange between the\\nauthor and the Portuguese ambassador\\n‘In concrete terms,’ I asked at last, ‘what did she do?’ ‘Nothing,’\\nhe said, with a  certain disenchantment. ‘She dreamed.’\\n4. Comment on the ironical element in the story.\\n2024-25\\n'),\n",
       " Document(metadata={'source': 'C:/Users/prane/Downloads/LangChain Project/Data/story.pdf', 'page': 9}, page_content='10/KALEIDOSCOPE\\nLanguage Work\\nA. Vocabulary\\nLook up the meanings of the following phrases under ‘dream’\\nand ‘sell’ in the dictionary\\ndream         sell\\ndream on sell-by date\\ndream something away selling-point\\n(not) dream of doing something sell-out\\ndream something up selling price\\nlook like a dream seller’s market\\nB. Grammar: Emphasis\\nRead this sentence carefully\\nOne morning  at nine o’clock, while we were having\\nbreakfast on the terrace of the Havana Riviera Hotel\\nunder a bright sun, a huge wave picked up several\\ncars that were driving down the avenue along the\\nseawall or parked on the pavement, and embedded\\none of them in the side of the hotel.\\nThe position of a word, phrase or an idea within a sentence\\nusually indicates the emphasis it receives. Generally, the most\\nemphatic place in the sentence is its  end;  the next most\\nemphatic is its beginning; and the least emphatic, its middle.\\nIn the sentence above the most important fact is that the huge\\nwave embedded one of the cars in one side of the hotel.\\nThe other details of time and place are given at the beginning.\\nThe general statement of the ‘huge wave picking up several\\ncars’ precedes the particular car which is pertinent to the theme\\nof the story.\\nLet us rewrite th e sentence, beginning with ‘a huge wave’ and\\nthe first part following ‘hotel’ and  notice the difference in the\\neffect.\\nA huge wave picked up several cars that were driving\\ndown the avenue along the seawall or parked on the\\npavement, and embedded one of them in the side of\\nthe hotel, one morning  at nine o’clock, while we were\\nhaving breakfast on the terrace of the Havana Riviera\\nHotel under a bright sun.\\n2024-25\\n'),\n",
       " Document(metadata={'source': 'C:/Users/prane/Downloads/LangChain Project/Data/story.pdf', 'page': 10}, page_content='11/I SELL MY DREAMS\\nTASK\\nStudy the following sentences and underline the part which receives\\nemphasis\\n• I never saw her again or even wondered about her until I heard\\nabout the snake ring on the woman who died in the Havana\\nRiviera disaster .\\n• That did not surprise me, however, because I had always thought\\nher dreams were no more than a stratagem for surviving.\\n• Although she did not say so, her conversation made it clear\\nthat, dream by dream, she had taken over the entire fortune of\\nher ineffable patrons in Vienna.\\n• Three tables away sat an intrepid woman in an old-fashioned felt\\nhat and a purple scarf, eating without haste and staring at him.\\n• I stayed in Vienna for more than a month, sharing the straitened\\ncircumstances of  the other students while I waited for money\\nthat never arrived.\\nC. Pronunciation\\nThe syllable is the basic unit of pronunciation. A word may\\nhave a single syllable, such as ‘will’, ‘pen’ etc. A word, sometimes,\\ncan have more than one syllable as for instance ‘willing’ (will-\\ning). Each syllable contains a vowel sound, and usually one or\\nmore consonants.\\nYou can show division of a wor d into syllables like this\\nfoolish fool-ish(2)\\nagreement a-gree-ment(3)\\narithmetic a-rith-me-tic(4)\\nTASK\\n• Say your name aloud and decide how many syllables there are\\nin it. Do the same with the names of your classmates.\\n• Pick out five words each for two syllable, three syllable and four\\nsyllable words from the lesson.\\nSuggested Reading\\nOne Hundred Years in Solitude  by Gabriel Gar cia Marquez\\nLove in the T ime of Cholera by Gabriel Gar cia Marquez.\\n2024-25\\n')]"
      ]
     },
     "execution_count": 42,
     "metadata": {},
     "output_type": "execute_result"
    }
   ],
   "source": [
    "from langchain_community.document_loaders import PyPDFLoader, TextLoader\n",
    "pdfloader = PyPDFLoader(\"C:/Users/prane/Downloads/LangChain Project/Data/story.pdf\") #PDF Document Loader\n",
    "docs=pdfloader.load()\n",
    "docs"
   ]
  },
  {
   "cell_type": "code",
   "execution_count": 43,
   "metadata": {},
   "outputs": [],
   "source": [
    "txtloader = TextLoader(\"C:/Users/prane/Downloads/LangChain Project/Data/sample.txt\") #text Doucment\n",
    "txtloader = txtloader.load()"
   ]
  },
  {
   "cell_type": "code",
   "execution_count": 44,
   "metadata": {},
   "outputs": [],
   "source": [
    "from langchain_text_splitters import RecursiveCharacterTextSplitter"
   ]
  },
  {
   "cell_type": "code",
   "execution_count": 45,
   "metadata": {},
   "outputs": [],
   "source": [
    "with open('C:/Users/prane/Downloads/LangChain Project/Data/sample.txt') as f:\n",
    "    doc = f.read()"
   ]
  },
  {
   "cell_type": "code",
   "execution_count": 47,
   "metadata": {},
   "outputs": [
    {
     "data": {
      "text/plain": [
       "[Document(metadata={'source': 'C:/Users/prane/Downloads/LangChain Project/Data/sample.txt'}, page_content='It is an honor to stand before you today and speak about a nation that embodies diversity, resilience, and progressâ€”India.\\nIndia, known as Bharat, is not just a country; it is a civilization that dates back thousands of years. With a rich heritage of art, culture, science, and philosophy, India has made invaluable contributions to the world. From the invention of zero by Aryabhata to the spiritual teachings of the Vedas, our country has always been a land of wisdom and innovation.'),\n",
       " Document(metadata={'source': 'C:/Users/prane/Downloads/LangChain Project/Data/sample.txt'}, page_content='India is the largest democracy in the world, home to over 1.4 billion people who speak more than 1,600 languages and dialects. Despite our diversity in culture, traditions, and beliefs, we stand united under one identityâ€”Indian. Our national motto, Satyameva Jayate (Truth Alone Triumphs), reminds us of our commitment to justice and righteousness.'),\n",
       " Document(metadata={'source': 'C:/Users/prane/Downloads/LangChain Project/Data/sample.txt'}, page_content='We take pride in our freedom struggle, where leaders like Mahatma Gandhi, Subhas Chandra Bose, Bhagat Singh, and Rani Lakshmibai fought bravely for independence. Their sacrifices gave us the India we live in todayâ€”a sovereign, socialist, secular, and democratic republic.'),\n",
       " Document(metadata={'source': 'C:/Users/prane/Downloads/LangChain Project/Data/sample.txt'}, page_content='India is a land of wonders. We have snow-capped Himalayas in the north, sun-kissed beaches in the south, vast deserts in the west, and lush green forests in the east. We are home to the Taj Mahal, one of the Seven Wonders of the World, and some of the oldest temples, forts, and palaces that narrate our glorious past.'),\n",
       " Document(metadata={'source': 'C:/Users/prane/Downloads/LangChain Project/Data/sample.txt'}, page_content=\"Our economy is one of the fastest-growing in the world, excelling in technology, space research, and medicine. Organizations like ISRO have made us proud by reaching the Moon and Mars, proving that India's dreams have no limits. Our scientists, doctors, and engineers are leading innovations worldwide, while our IT industry powers businesses across the globe.\"),\n",
       " Document(metadata={'source': 'C:/Users/prane/Downloads/LangChain Project/Data/sample.txt'}, page_content='But what makes India truly incredible is its peopleâ€”people who believe in the values of unity, respect, and hard work. From festivals like Diwali, Eid, Christmas, and Pongal to the spirit of sportsmanship seen in cricket, hockey, and the Olympics, we celebrate every aspect of life with enthusiasm and harmony.'),\n",
       " Document(metadata={'source': 'C:/Users/prane/Downloads/LangChain Project/Data/sample.txt'}, page_content='As the youth of this great nation, it is our responsibility to shape its future. Let us embrace knowledge, uphold our values, and work towards a stronger, cleaner, and more developed India. As Dr. APJ Abdul Kalam once said, \"Dream, dream, dream. Dreams transform into thoughts and thoughts result in action.\"\\nLet us dream of a better India and turn that dream into reality.\\nJai Hind!')]"
      ]
     },
     "execution_count": 47,
     "metadata": {},
     "output_type": "execute_result"
    }
   ],
   "source": [
    "text_splitter = RecursiveCharacterTextSplitter(chunk_size=500, chunk_overlap=20)\n",
    "chunks = text_splitter.split_documents(txtloader)\n",
    "chunks"
   ]
  },
  {
   "cell_type": "code",
   "execution_count": 48,
   "metadata": {},
   "outputs": [
    {
     "name": "stdout",
     "output_type": "stream",
     "text": [
      "page_content='It is an honor to stand before you today and speak about a nation that embodies diversity, resilience, and progressâ€”India.\n",
      "India, known as Bharat, is not just a country; it is a civilization that dates back thousands of years. With a rich heritage of art, culture, science, and philosophy, India has made invaluable contributions to the world. From the invention of zero by Aryabhata to the spiritual teachings of the Vedas, our country has always been a land of wisdom and innovation.' metadata={'source': 'C:/Users/prane/Downloads/LangChain Project/Data/sample.txt'}\n",
      "page_content='India is the largest democracy in the world, home to over 1.4 billion people who speak more than 1,600 languages and dialects. Despite our diversity in culture, traditions, and beliefs, we stand united under one identityâ€”Indian. Our national motto, Satyameva Jayate (Truth Alone Triumphs), reminds us of our commitment to justice and righteousness.' metadata={'source': 'C:/Users/prane/Downloads/LangChain Project/Data/sample.txt'}\n"
     ]
    }
   ],
   "source": [
    "print(chunks[0])\n",
    "print(chunks[1])"
   ]
  },
  {
   "cell_type": "code",
   "execution_count": 56,
   "metadata": {},
   "outputs": [
    {
     "name": "stdout",
     "output_type": "stream",
     "text": [
      "['###', 'Sect', 'tion', '1', 'Some', 'text', 't.', '###', 'Sect', 'tion', '2', 'More', 'text', 'here', 'o.']\n"
     ]
    }
   ],
   "source": [
    "from langchain.text_splitter import RecursiveCharacterTextSplitter\n",
    "\n",
    "text_splitter = RecursiveCharacterTextSplitter(\n",
    "    chunk_size=5,  \n",
    "    chunk_overlap=1 \n",
    ")\n",
    "\n",
    "text = \"### Section 1\\nSome text.\\n\\n### Section 2\\nMore text here o.\"\n",
    "chunks = text_splitter.split_text(text)\n",
    "\n",
    "print(chunks)\n"
   ]
  },
  {
   "cell_type": "code",
   "execution_count": 65,
   "metadata": {},
   "outputs": [
    {
     "name": "stderr",
     "output_type": "stream",
     "text": [
      "Created a chunk of size 24, which is longer than the specified 5\n"
     ]
    },
    {
     "name": "stdout",
     "output_type": "stream",
     "text": [
      "['### Section 1\\nSome text.', '### Section 2\\nMore text here.']\n"
     ]
    }
   ],
   "source": [
    "from langchain.text_splitter import CharacterTextSplitter\n",
    "\n",
    "text_splitter = CharacterTextSplitter(\n",
    "    separator=\"\\n\\n\",  # Splits at double newlines\n",
    "    chunk_size=5,  \n",
    "    chunk_overlap=1  \n",
    ")\n",
    "\n",
    "text = \"### Section 1\\nSome text.\\n\\n### Section 2\\nMore text here.\"\n",
    "chunks = text_splitter.split_text(text)\n",
    "\n",
    "print(chunks) "
   ]
  }
 ],
 "metadata": {
  "kernelspec": {
   "display_name": "Python 3",
   "language": "python",
   "name": "python3"
  },
  "language_info": {
   "codemirror_mode": {
    "name": "ipython",
    "version": 3
   },
   "file_extension": ".py",
   "mimetype": "text/x-python",
   "name": "python",
   "nbconvert_exporter": "python",
   "pygments_lexer": "ipython3",
   "version": "3.10.7"
  }
 },
 "nbformat": 4,
 "nbformat_minor": 2
}
